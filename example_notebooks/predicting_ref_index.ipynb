{
 "cells": [
  {
   "cell_type": "markdown",
   "metadata": {},
   "source": [
    "# Predicting the refractive index for the Materials Project\n",
    "\n",
    "This notebook will predict the refractive index for ~68,000 materials from the Materials Project (MP).\n",
    "This is done by using the pretrained model \"refractive_index\" available in the following directory: modnet/pretrained.\n",
    "\n",
    "## Load model\n",
    "First the MODNetModel is loaded:"
   ]
  },
  {
   "cell_type": "code",
   "execution_count": 2,
   "metadata": {},
   "outputs": [],
   "source": [
    "import sys\n",
    "#sys.path.append('..')\n",
    "from modnet.models import MODNetModel\n",
    "from modnet.preprocessing import MODData"
   ]
  },
  {
   "cell_type": "code",
   "execution_count": 3,
   "metadata": {},
   "outputs": [],
   "source": [
    "model = MODNetModel.load('../pretrained/refractive_index')"
   ]
  },
  {
   "cell_type": "markdown",
   "metadata": {},
   "source": [
    "## Load MODData\n",
    "In order to predict it on new structures a MODData should be created. Here we want to predict on structures from the MP, and therefore load the precomputed MP MODData.\n",
    "This takes some time and memory."
   ]
  },
  {
   "cell_type": "code",
   "execution_count": 4,
   "metadata": {},
   "outputs": [],
   "source": [
    "MP_data = MODData.load(\"../moddata/MP_2018.6\")"
   ]
  },
  {
   "cell_type": "markdown",
   "metadata": {},
   "source": [
    "## Predict on new structures\n",
    "By using the predict() method on the MP_data, a dataframe containing the predictions is obtained."
   ]
  },
  {
   "cell_type": "code",
   "execution_count": 6,
   "metadata": {},
   "outputs": [],
   "source": [
    "df = model.predict(MP_data)"
   ]
  },
  {
   "cell_type": "code",
   "execution_count": 7,
   "metadata": {},
   "outputs": [
    {
     "data": {
      "text/html": [
       "<div>\n",
       "<style scoped>\n",
       "    .dataframe tbody tr th:only-of-type {\n",
       "        vertical-align: middle;\n",
       "    }\n",
       "\n",
       "    .dataframe tbody tr th {\n",
       "        vertical-align: top;\n",
       "    }\n",
       "\n",
       "    .dataframe thead th {\n",
       "        text-align: right;\n",
       "    }\n",
       "</style>\n",
       "<table border=\"1\" class=\"dataframe\">\n",
       "  <thead>\n",
       "    <tr style=\"text-align: right;\">\n",
       "      <th></th>\n",
       "      <th>n</th>\n",
       "    </tr>\n",
       "  </thead>\n",
       "  <tbody>\n",
       "    <tr>\n",
       "      <th>mvc-8151</th>\n",
       "      <td>1.836289</td>\n",
       "    </tr>\n",
       "    <tr>\n",
       "      <th>mvc-8154</th>\n",
       "      <td>2.404503</td>\n",
       "    </tr>\n",
       "    <tr>\n",
       "      <th>mvc-1148</th>\n",
       "      <td>2.437731</td>\n",
       "    </tr>\n",
       "    <tr>\n",
       "      <th>mvc-14313</th>\n",
       "      <td>2.275732</td>\n",
       "    </tr>\n",
       "    <tr>\n",
       "      <th>mvc-9795</th>\n",
       "      <td>1.577527</td>\n",
       "    </tr>\n",
       "    <tr>\n",
       "      <th>...</th>\n",
       "      <td>...</td>\n",
       "    </tr>\n",
       "    <tr>\n",
       "      <th>mp-568848</th>\n",
       "      <td>1.796837</td>\n",
       "    </tr>\n",
       "    <tr>\n",
       "      <th>mp-864715</th>\n",
       "      <td>4.814851</td>\n",
       "    </tr>\n",
       "    <tr>\n",
       "      <th>mp-677105</th>\n",
       "      <td>3.504748</td>\n",
       "    </tr>\n",
       "    <tr>\n",
       "      <th>mp-17095</th>\n",
       "      <td>2.901172</td>\n",
       "    </tr>\n",
       "    <tr>\n",
       "      <th>mp-774245</th>\n",
       "      <td>2.328551</td>\n",
       "    </tr>\n",
       "  </tbody>\n",
       "</table>\n",
       "<p>68489 rows × 1 columns</p>\n",
       "</div>"
      ],
      "text/plain": [
       "                  n\n",
       "mvc-8151   1.836289\n",
       "mvc-8154   2.404503\n",
       "mvc-1148   2.437731\n",
       "mvc-14313  2.275732\n",
       "mvc-9795   1.577527\n",
       "...             ...\n",
       "mp-568848  1.796837\n",
       "mp-864715  4.814851\n",
       "mp-677105  3.504748\n",
       "mp-17095   2.901172\n",
       "mp-774245  2.328551\n",
       "\n",
       "[68489 rows x 1 columns]"
      ]
     },
     "execution_count": 7,
     "metadata": {},
     "output_type": "execute_result"
    }
   ],
   "source": [
    "df"
   ]
  },
  {
   "cell_type": "markdown",
   "metadata": {},
   "source": [
    "As a test, 3 materials with id mp-19033, mp-559175, and mp-6930, not included in the training set, were computed by DFT with corresponding 'true' refractive index: 2.59, 2.53 and 1.56.\n",
    "\n",
    "The following  approximation was found by our model, in a fraction of time:"
   ]
  },
  {
   "cell_type": "code",
   "execution_count": 8,
   "metadata": {},
   "outputs": [
    {
     "data": {
      "text/html": [
       "<div>\n",
       "<style scoped>\n",
       "    .dataframe tbody tr th:only-of-type {\n",
       "        vertical-align: middle;\n",
       "    }\n",
       "\n",
       "    .dataframe tbody tr th {\n",
       "        vertical-align: top;\n",
       "    }\n",
       "\n",
       "    .dataframe thead th {\n",
       "        text-align: right;\n",
       "    }\n",
       "</style>\n",
       "<table border=\"1\" class=\"dataframe\">\n",
       "  <thead>\n",
       "    <tr style=\"text-align: right;\">\n",
       "      <th></th>\n",
       "      <th>n</th>\n",
       "    </tr>\n",
       "  </thead>\n",
       "  <tbody>\n",
       "    <tr>\n",
       "      <th>mp-19033</th>\n",
       "      <td>2.551692</td>\n",
       "    </tr>\n",
       "    <tr>\n",
       "      <th>mp-559175</th>\n",
       "      <td>2.458439</td>\n",
       "    </tr>\n",
       "    <tr>\n",
       "      <th>mp-6930</th>\n",
       "      <td>1.546023</td>\n",
       "    </tr>\n",
       "  </tbody>\n",
       "</table>\n",
       "</div>"
      ],
      "text/plain": [
       "                  n\n",
       "mp-19033   2.551692\n",
       "mp-559175  2.458439\n",
       "mp-6930    1.546023"
      ]
     },
     "execution_count": 8,
     "metadata": {},
     "output_type": "execute_result"
    }
   ],
   "source": [
    "df.loc[['mp-19033', 'mp-559175', 'mp-6930']]"
   ]
  },
  {
   "cell_type": "code",
   "execution_count": null,
   "metadata": {},
   "outputs": [],
   "source": []
  }
 ],
 "metadata": {
  "kernelspec": {
   "display_name": "Python (matenv)",
   "language": "python",
   "name": "matenv"
  },
  "language_info": {
   "codemirror_mode": {
    "name": "ipython",
    "version": 3
   },
   "file_extension": ".py",
   "mimetype": "text/x-python",
   "name": "python",
   "nbconvert_exporter": "python",
   "pygments_lexer": "ipython3",
   "version": "3.7.7"
  }
 },
 "nbformat": 4,
 "nbformat_minor": 4
}
